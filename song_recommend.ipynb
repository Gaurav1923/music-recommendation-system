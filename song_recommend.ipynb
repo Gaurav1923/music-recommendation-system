{
  "nbformat": 4,
  "nbformat_minor": 0,
  "metadata": {
    "colab": {
      "name": "song recommend.ipynb",
      "provenance": [],
      "collapsed_sections": []
    },
    "kernelspec": {
      "name": "python3",
      "display_name": "Python 3"
    },
    "language_info": {
      "name": "python"
    }
  },
  "cells": [
    {
      "cell_type": "code",
      "execution_count": 1,
      "metadata": {
        "id": "VTDHdfe8ecH6"
      },
      "outputs": [],
      "source": [
        "import pandas as pd\n",
        "import numpy as np\n",
        "import Recommenders as Recommenders"
      ]
    },
    {
      "cell_type": "code",
      "source": [
        "song_df_1 = pd.read_csv('triplets_file.csv')\n",
        "song_df_1.head()"
      ],
      "metadata": {
        "id": "4sTKpWXufqhO"
      },
      "execution_count": null,
      "outputs": []
    },
    {
      "cell_type": "code",
      "source": [
        "song_df_2 = pd.read_csv('song_data.csv')\n",
        "song_df_2.head()"
      ],
      "metadata": {
        "id": "fYmY3XxLfwvr"
      },
      "execution_count": null,
      "outputs": []
    },
    {
      "cell_type": "code",
      "source": [
        "song_df = pd.merge(song_df_1, song_df_2.drop_duplicates(['song_id']), on='song_id', how='left')\n",
        "song_df.head()\n"
      ],
      "metadata": {
        "id": "m5zF33JWf1Af"
      },
      "execution_count": null,
      "outputs": []
    },
    {
      "cell_type": "code",
      "source": [
        "print(len(song_df_1), len(song_df_2))"
      ],
      "metadata": {
        "id": "Npsb--Twf5KI"
      },
      "execution_count": null,
      "outputs": []
    },
    {
      "cell_type": "code",
      "source": [
        "len(song_df)\n"
      ],
      "metadata": {
        "id": "-85XuiI8f82Z"
      },
      "execution_count": null,
      "outputs": []
    },
    {
      "cell_type": "code",
      "source": [
        "song_df['song'] = song_df['title']+' - '+song_df['artist_name']\n",
        "song_df.head()"
      ],
      "metadata": {
        "id": "lQ2R4Zr_gCBP"
      },
      "execution_count": null,
      "outputs": []
    },
    {
      "cell_type": "code",
      "source": [
        "song_df = song_df.head(10000)"
      ],
      "metadata": {
        "id": "bz-SC8RWgJr6"
      },
      "execution_count": null,
      "outputs": []
    },
    {
      "cell_type": "code",
      "source": [
        "song_grouped = song_df.groupby(['song']).agg({'listen_count':'count'}).reset_index()\n",
        "song_grouped.head()"
      ],
      "metadata": {
        "id": "lg0EppfPgN3W"
      },
      "execution_count": null,
      "outputs": []
    },
    {
      "cell_type": "code",
      "source": [
        "grouped_sum = song_grouped['listen_count'].sum()\n",
        "song_grouped['percentage'] = (song_grouped['listen_count'] / grouped_sum ) * 100\n",
        "song_grouped.sort_values(['listen_count', 'song'], ascending=[0,1])"
      ],
      "metadata": {
        "id": "znyn8YTLgTAD"
      },
      "execution_count": null,
      "outputs": []
    },
    {
      "cell_type": "code",
      "source": [
        "pr = Recommenders.popularity_recommender_py() "
      ],
      "metadata": {
        "id": "8MmGWvH0gXKQ"
      },
      "execution_count": null,
      "outputs": []
    },
    {
      "cell_type": "code",
      "source": [
        "pr.create(song_df, 'user_id', 'song')"
      ],
      "metadata": {
        "id": "IbuI9Dhpgaw2"
      },
      "execution_count": null,
      "outputs": []
    },
    {
      "cell_type": "code",
      "source": [
        "pr.recommend(song_df['user_id'][5])\n"
      ],
      "metadata": {
        "id": "gkGUpoDigfik"
      },
      "execution_count": null,
      "outputs": []
    },
    {
      "cell_type": "code",
      "source": [
        "pr.recommend(song_df['user_id'][100])\n"
      ],
      "metadata": {
        "id": "hymx7yQDgmVW"
      },
      "execution_count": null,
      "outputs": []
    },
    {
      "cell_type": "code",
      "source": [
        "ir = Recommenders.item_similarity_recommender_py()\n",
        "ir.create(song_df, 'user_id', 'song')"
      ],
      "metadata": {
        "id": "b9zxTpTlgqPb"
      },
      "execution_count": null,
      "outputs": []
    },
    {
      "cell_type": "code",
      "source": [
        "user_items = ir.get_user_items(song_df['user_id'][38])"
      ],
      "metadata": {
        "id": "FXVMRguXgtqH"
      },
      "execution_count": null,
      "outputs": []
    },
    {
      "cell_type": "code",
      "source": [
        "for user_item in user_items:\n",
        "    print(user_item)"
      ],
      "metadata": {
        "id": "tGUyBdnSgxP2"
      },
      "execution_count": null,
      "outputs": []
    },
    {
      "cell_type": "code",
      "source": [
        "\n",
        "ir.recommend(song_df['user_id'][38])\n"
      ],
      "metadata": {
        "id": "iN69da4Bg830"
      },
      "execution_count": null,
      "outputs": []
    },
    {
      "cell_type": "code",
      "source": [
        "ir.get_similar_items(['Oliver James - Fleet Foxes', 'The End - Pearl Jam'])"
      ],
      "metadata": {
        "id": "S9sNYO8phPC0"
      },
      "execution_count": null,
      "outputs": []
    }
  ]
}